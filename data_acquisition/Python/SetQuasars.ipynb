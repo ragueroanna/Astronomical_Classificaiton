{
 "cells": [
  {
   "cell_type": "markdown",
   "id": "25076195-86e4-4b32-8a59-cba0f907e366",
   "metadata": {},
   "source": [
    "# PART 1: Read in CSV Data"
   ]
  },
  {
   "cell_type": "markdown",
   "id": "18f1d24c-e224-4091-9a3e-092ffbae4ec8",
   "metadata": {},
   "source": [
    "## Part 1a: Read in initial final combined csv (the one with no Quasars)"
   ]
  },
  {
   "cell_type": "code",
   "execution_count": 84,
   "id": "34e56a9c-c496-463f-b17b-07577a1ff603",
   "metadata": {},
   "outputs": [],
   "source": [
    "# imports and setup \n",
    "import pandas as pd\n",
    "import numpy as np\n",
    "import os"
   ]
  },
  {
   "cell_type": "code",
   "execution_count": 86,
   "id": "55715961-20c5-422a-be54-9bc4708b2b67",
   "metadata": {},
   "outputs": [],
   "source": [
    "#set working directory\n",
    "os.chdir('/Users/roannarague/Downloads')\n",
    "\n",
    "#read in the final_combined csv (with no quasars)\n",
    "df_combined = pd.read_csv('/Users/roannarague/Downloads/final_combined_3.csv')\n",
    "\n",
    "#print a few lines\n",
    "#df_combined.head()\n",
    "\n",
    "#check out all our spec ob IDs\n",
    "#print(df_combined['spec_obj_ID'])"
   ]
  },
  {
   "cell_type": "markdown",
   "id": "fbb7955d-05a3-40b5-9f1b-d3142e2adf20",
   "metadata": {},
   "source": [
    "## PART 1b: Read in our ALL Quasar CSV data"
   ]
  },
  {
   "cell_type": "code",
   "execution_count": 87,
   "id": "354a0fdc-d608-41a6-8de9-c0b8d1422676",
   "metadata": {},
   "outputs": [],
   "source": [
    "#read in the final_combined csv (with no quasars)\n",
    "df_qso = pd.read_csv('/Users/roannarague/Downloads/Quasars2.csv')\n",
    "\n",
    "#print a few lines\n",
    "#df_qso.head()\n",
    "\n",
    "#print columns\n",
    "#print(df_qso.columns.tolist())\n",
    "\n",
    "#create new dataframe of just spec obj ids\n",
    "df_specs = pd.DataFrame().assign(specObjID=df_qso['specObjID'])\n",
    "\n",
    "#df_specs.head()\n",
    "\n",
    "#create a numpy array out of this new dataframe\n",
    "specID_array = df_specs.to_numpy()\n",
    "\n",
    "#print(specID_array)"
   ]
  },
  {
   "cell_type": "markdown",
   "id": "2ca59948-4c1e-4241-8c59-24550ed43546",
   "metadata": {},
   "source": [
    "# PART 2: Iterate through our final_combined_3.csv to find specObjIDs that match our Quasar specObjIDs"
   ]
  },
  {
   "cell_type": "markdown",
   "id": "a67c4be7-3102-4bd8-84f2-b08c2e18c162",
   "metadata": {},
   "source": [
    "## PART 2a: iterate through our df_combined dataframe and start comparing specObjIDs to find matches"
   ]
  },
  {
   "cell_type": "code",
   "execution_count": 89,
   "id": "e4fc4b7c-cd11-4e1f-bfde-fd63df45e6ec",
   "metadata": {},
   "outputs": [],
   "source": [
    "#iterate through our df_combined dataframe\n",
    "\n",
    "#create a variable to store our first quasar spec id we find so we can validate later\n",
    "firstQSOSpecID = 0\n",
    "\n",
    "#print(\"================= SpecObjID ========== Class ======\")\n",
    "for index, row in df_combined.iterrows():\n",
    "    #print(\"index: \" , index, \" --> \", row['spec_obj_ID'], \" \" ,row['class'])\n",
    "    #print(row['spec_obj_ID'])\n",
    "    if row['spec_obj_ID'] in specID_array:\n",
    "        firstQSOSpecID = row['spec_obj_ID']\n",
    "        \n",
    "        #print our old row\n",
    "        #print(\"===================== ROW =====================\")\n",
    "        #print(\"OLD Row: \", \"index: \", index, \"Row: \", row['spec_obj_ID'], \" CLASS: \", row['class'])\n",
    "        \n",
    "        #so now we have to change the class type from whatever it was to QSO == Quasar\n",
    "        df_combined.at[index,'class']='QSO'\n",
    "        \n",
    "        #print our new row\n",
    "        #print(\"NEW Row: \", \"index: \", index, \"Row: \", row['spec_obj_ID'], \" CLASS: \", row['class'])\n",
    "\n",
    "#DOUBLE CHECKING DOWN HERE to make sure that it actually was in the quasar numpy array\n",
    "#for i in specID_array:\n",
    "    #if i == firstQSOSpecID:\n",
    "        #print(\"Successful Test #1!\")\n",
    "        #print(i, \" == \", firstQSOSpecID)\n",
    "        \n",
    "\n"
   ]
  },
  {
   "cell_type": "markdown",
   "id": "c9b273cf-444e-4a9e-965e-5d0e8b5825cc",
   "metadata": {},
   "source": [
    "# PART 3: Write to a new final_combined_QSO.csv file"
   ]
  },
  {
   "cell_type": "markdown",
   "id": "bf37feae-7db4-4587-ad4b-982a40457611",
   "metadata": {},
   "source": [
    "## PART 3a: Write a new csv file with Quasars in it"
   ]
  },
  {
   "cell_type": "code",
   "execution_count": 90,
   "id": "4c063787-a87b-4692-8606-759b0fe2e3b7",
   "metadata": {},
   "outputs": [],
   "source": [
    "#first let's take a look at our dataframe head again:\n",
    "#for index, row in df_combined.iterrows():\n",
    "    #if row['class'] == 'QSO':\n",
    "        #print(\"index: \" , index, \" --> \", row['spec_obj_ID'], \" \" ,row['class'])\n",
    "        \n",
    "\n",
    "#Write to a csv file \n",
    "df_combined.to_csv('/Users/roannarague/Downloads/final_combined_QSO_1.csv')\n"
   ]
  },
  {
   "cell_type": "markdown",
   "id": "ab7002c2-9759-46fe-a5a6-e34b9319a6ae",
   "metadata": {},
   "source": [
    "# PART 4: re-read in our new combined csv file with quasars\n"
   ]
  },
  {
   "cell_type": "code",
   "execution_count": 94,
   "id": "0de3080a-2837-4d08-b865-891cfe5fccbe",
   "metadata": {},
   "outputs": [
    {
     "name": "stdout",
     "output_type": "stream",
     "text": [
      "        Unnamed: 0  Unnamed: 0.1  plate      z  redshift  spec_obj_ID  obj_ID  \\\n",
      "class                                                                           \n",
      "GALAXY       42903         42903  42903  42903     42903        42903   42903   \n",
      "QSO           7193          7193   7193   7193      7193         7193    7193   \n",
      "STAR         21059         21059  21059  21059     21059        21059   21059   \n",
      "\n",
      "        alpha  delta      u      g      r      i  run_ID  rerun_ID  cam_col  \\\n",
      "class                                                                         \n",
      "GALAXY  42903  42903  42903  42903  42903  42903   42903     42903    42903   \n",
      "QSO      7193   7193   7193   7193   7193   7193    7193      7193     7193   \n",
      "STAR    21059  21059  21059  21059  21059  21059   21059     21059    21059   \n",
      "\n",
      "        field_ID    MJD  fiber_ID  \n",
      "class                              \n",
      "GALAXY     42903  42903     42903  \n",
      "QSO         7193   7193      7193  \n",
      "STAR       21059  21059     21059  \n"
     ]
    }
   ],
   "source": [
    "#read in the final_combined csv (with quasars)\n",
    "df_combined_QSO = pd.read_csv('/Users/roannarague/Downloads/final_combined_QSO_1.csv')\n",
    "\n",
    "#print a few lines\n",
    "#df_combined_QSO.head()\n",
    "print(df_combined_QSO.groupby('class').count())"
   ]
  },
  {
   "cell_type": "code",
   "execution_count": null,
   "id": "4634f807-ded5-4a33-9f95-86f8ce7e45f8",
   "metadata": {},
   "outputs": [],
   "source": []
  }
 ],
 "metadata": {
  "kernelspec": {
   "display_name": "Python 3",
   "language": "python",
   "name": "python3"
  },
  "language_info": {
   "codemirror_mode": {
    "name": "ipython",
    "version": 3
   },
   "file_extension": ".py",
   "mimetype": "text/x-python",
   "name": "python",
   "nbconvert_exporter": "python",
   "pygments_lexer": "ipython3",
   "version": "3.8.8"
  }
 },
 "nbformat": 4,
 "nbformat_minor": 5
}
